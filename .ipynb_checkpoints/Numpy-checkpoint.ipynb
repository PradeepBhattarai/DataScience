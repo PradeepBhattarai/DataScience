{
 "cells": [
  {
   "cell_type": "code",
   "execution_count": 2,
   "metadata": {},
   "outputs": [
    {
     "name": "stdout",
     "output_type": "stream",
     "text": [
      "[1, 2, 3, 4, 5]\n",
      "<class 'list'>\n",
      "[1 2 3 4]\n",
      "<class 'numpy.ndarray'>\n"
     ]
    }
   ],
   "source": [
    "#NUMPY Tutorial\n",
    "import numpy as np\n",
    "x=np.array([1,2,3,4])\n",
    "y=[1,2,3,4,5]\n",
    "\n",
    "print(y)\n",
    "print(type(y))\n",
    "\n",
    "print(x)\n",
    "print(type(x))\n"
   ]
  },
  {
   "cell_type": "code",
   "execution_count": 1,
   "metadata": {},
   "outputs": [
    {
     "name": "stdout",
     "output_type": "stream",
     "text": [
      "38.1 µs ± 4.3 µs per loop (mean ± std. dev. of 7 runs, 10,000 loops each)\n"
     ]
    }
   ],
   "source": [
    "%timeit [j**4 for j in range(1,8)]"
   ]
  },
  {
   "cell_type": "code",
   "execution_count": 1,
   "metadata": {},
   "outputs": [
    {
     "name": "stdout",
     "output_type": "stream",
     "text": [
      "3.8 µs ± 59.6 ns per loop (mean ± std. dev. of 7 runs, 100,000 loops each)\n"
     ]
    }
   ],
   "source": [
    "import numpy as np\n",
    "\n",
    "%timeit np.arange(1,100)**4"
   ]
  },
  {
   "cell_type": "markdown",
   "metadata": {},
   "source": [
    "# Array"
   ]
  },
  {
   "cell_type": "code",
   "execution_count": 4,
   "metadata": {},
   "outputs": [
    {
     "name": "stdout",
     "output_type": "stream",
     "text": [
      "enter:1\n",
      "enter:2\n",
      "enter:3\n",
      "enter:4\n",
      "['1' '2' '3' '4']\n"
     ]
    }
   ],
   "source": [
    "import numpy as np\n",
    "l=[]\n",
    "for i in range(1,5):\n",
    "    int_1=input(\"enter:\")\n",
    "    l.append(int_1)\n",
    "print(np.array(l))"
   ]
  },
  {
   "cell_type": "markdown",
   "metadata": {},
   "source": [
    "# Dimensions of array"
   ]
  },
  {
   "cell_type": "code",
   "execution_count": 8,
   "metadata": {},
   "outputs": [
    {
     "name": "stdout",
     "output_type": "stream",
     "text": [
      "[[1 2 3 4]\n",
      " [1 5 6 8]]\n",
      "2\n",
      "[[[1 2 3 4]\n",
      "  [1 5 6 8]\n",
      "  [2 3 4 5]]]\n",
      "3\n",
      "(1, 3, 4)\n"
     ]
    }
   ],
   "source": [
    "ar1=np.array([[1,2,3,4],[1,5,6,8]])\n",
    "print(ar1)\n",
    "print(ar1.ndim)\n",
    "ar2=np.array([[[1,2,3,4],[1,5,6,8],[2,3,4,5]]])\n",
    "print(ar2)\n",
    "print(ar2.ndim)\n",
    "print(ar2.shape)"
   ]
  },
  {
   "cell_type": "code",
   "execution_count": 7,
   "metadata": {},
   "outputs": [
    {
     "name": "stdout",
     "output_type": "stream",
     "text": [
      "[[[[[[[[[[1 2 3 4]]]]]]]]]]\n",
      "10\n",
      "[0. 0. 0. 0. 0. 0. 0. 0. 0. 0.]\n",
      "[[0. 0. 0. 0.]\n",
      " [0. 0. 0. 0.]\n",
      " [0. 0. 0. 0.]]\n",
      "[[1. 1. 1. 1.]\n",
      " [1. 1. 1. 1.]\n",
      " [1. 1. 1. 1.]\n",
      " [1. 1. 1. 1.]]\n",
      "\n",
      "[2.12199579e-314 1.15648771e-311 6.60071703e-321 1.15648771e-311]\n",
      "[0 1 2 3]\n",
      "[[1. 0. 0.]\n",
      " [0. 1. 0.]\n",
      " [0. 0. 1.]]\n",
      "[ 3.    4.75  6.5   8.25 10.  ]\n",
      "(5,)\n"
     ]
    }
   ],
   "source": [
    "arn=np.array([1,2,3,4],ndmin=10)\n",
    "print(arn)\n",
    "print(arn.ndim)\n",
    "\n",
    "ar_zero=np.zeros(10)\n",
    "ar_zero1=np.zeros((3,4))#3*4 2d array\n",
    "print(ar_zero)\n",
    "print(ar_zero1)\n",
    "\n",
    "\n",
    "ar_one=np.ones((4,4))\n",
    "print(ar_one)\n",
    "\n",
    "print()\n",
    "ar_em=np.empty(4)\n",
    "print(ar_em)\n",
    "\n",
    "# Range\n",
    "ar_rn=np.arange(4)\n",
    "print(ar_rn)\n",
    "\n",
    "#diagonal elem 1\n",
    "ar_dig1=np.eye(3,3)\n",
    "print(ar_dig1)\n",
    "\n",
    "#lineSpace\n",
    "ar_lin=np.linspace(3,10,num=5)#gap=(10-3)/(5-1)\n",
    "print(ar_lin)\n"
   ]
  },
  {
   "cell_type": "markdown",
   "metadata": {},
   "source": [
    "# Array Using Random Numbers"
   ]
  },
  {
   "cell_type": "code",
   "execution_count": 80,
   "metadata": {},
   "outputs": [
    {
     "name": "stdout",
     "output_type": "stream",
     "text": [
      "[[0.01205851 0.34766556]\n",
      " [0.74220871 0.33513911]]\n",
      "\n",
      "[[ 0.31484089  1.16993452]\n",
      " [-0.44661669  0.4561517 ]]\n",
      "\n",
      "[[0.38274992 0.00881303]\n",
      " [0.30983337 0.3027787 ]]\n",
      "\n",
      "[6 9 7 6 6 6 9 5 6 9]\n"
     ]
    }
   ],
   "source": [
    "rand_array=np.random.rand(2,2)\n",
    "print(rand_array)\n",
    "print()\n",
    "rand_array1=np.random.randn(2,2)#numbers close to zero\n",
    "print(rand_array1)\n",
    "print()\n",
    "rand_array2=np.random.ranf((2,2))# half open interval [0.0,1.0)\n",
    "print(rand_array2)\n",
    "print()\n",
    "rand_array3=np.random.randint(5,10,10) #between 5 and 10 elements of 10\n",
    "print(rand_array3)"
   ]
  },
  {
   "cell_type": "markdown",
   "metadata": {},
   "source": [
    "# DataTypes in NumPy Arrays"
   ]
  },
  {
   "cell_type": "code",
   "execution_count": 9,
   "metadata": {},
   "outputs": [
    {
     "name": "stdout",
     "output_type": "stream",
     "text": [
      "int32\n",
      "float64\n",
      "<U1\n",
      "<U11\n",
      "int8\n",
      "float32\n",
      "[1. 2. 3. 4. 5.]\n",
      "[1 2 3 4 5]\n",
      "[1. 2. 3. 4. 5.]\n"
     ]
    }
   ],
   "source": [
    "var=np.array([1,2,3,4,5])\n",
    "print(var.dtype)\n",
    "var=np.array([1,2.5,3,4,5])\n",
    "print(var.dtype)\n",
    "var=np.array(['b','a','C','D','E'])\n",
    "print(var.dtype)\n",
    "var=np.array([1,2,3,'D','E'])\n",
    "print(var.dtype)\n",
    "\n",
    "x=np.array([1,2,3,4,5],dtype=np.int8)#conversion of datatypes\n",
    "print(x.dtype)\n",
    "\n",
    "x=np.array([1,2,3,4,5],dtype='f')\n",
    "print(x.dtype)\n",
    "print(x)\n",
    "\n",
    "x=np.array([1,2,3,4,5])\n",
    "new_1=x.astype(float)\n",
    "print(x)\n",
    "print(new_1)"
   ]
  },
  {
   "cell_type": "markdown",
   "metadata": {},
   "source": [
    "# Arithematic Operations in Array"
   ]
  },
  {
   "cell_type": "code",
   "execution_count": 108,
   "metadata": {},
   "outputs": [
    {
     "name": "stdout",
     "output_type": "stream",
     "text": [
      "[4 5 6 7]\n",
      "[ 5  7  9 11]\n",
      "\n",
      "[[ 1  4  9 16]\n",
      " [16 25 36 49]]\n",
      "min: 1 0\n",
      "min: 7 7\n"
     ]
    }
   ],
   "source": [
    "var=np.array([1,2,3,4])\n",
    "varadd=var+3\n",
    "print(varadd)\n",
    "\n",
    "var=np.array([1,2,3,4])\n",
    "varadd=var+3\n",
    "var2=var+varadd\n",
    "print(var2)\n",
    "print()\n",
    "\n",
    "#2D array\n",
    "var21=np.array([[1,2,3,4],[4,5,6,7]])\n",
    "var22=np.array([[1,2,3,4],[4,5,6,7]])\n",
    "var23=var21*var22#not matrix mulbut multiplies corresponding elements\n",
    "print(var23)\n",
    "\n",
    "print(\"min:\",np.min(var21),np.argmin(var21))\n",
    "print(\"min:\",np.max(var21),np.argmax(var21))"
   ]
  },
  {
   "cell_type": "markdown",
   "metadata": {},
   "source": [
    "# Learning Broadcasting"
   ]
  },
  {
   "cell_type": "code",
   "execution_count": 7,
   "metadata": {},
   "outputs": [
    {
     "name": "stdout",
     "output_type": "stream",
     "text": [
      "[ 3  5  7  9 11]\n"
     ]
    }
   ],
   "source": [
    "import numpy as np\n",
    "varr1=np.array([1,2,3,4,5])\n",
    "varr2=np.array([2,3,4,5,6])\n",
    "print(varr1+varr2) #should be of same dimensions else broadcasting error occurs"
   ]
  },
  {
   "cell_type": "markdown",
   "metadata": {},
   "source": [
    "# Indexing and Slicing"
   ]
  },
  {
   "cell_type": "code",
   "execution_count": 25,
   "metadata": {},
   "outputs": [
    {
     "name": "stdout",
     "output_type": "stream",
     "text": [
      "7\n",
      "\n",
      "3\n",
      "\n",
      "6\n",
      "\n",
      "[8 7 2]\n",
      "[7 2]\n",
      "\n",
      "[[1 2 3]]\n"
     ]
    }
   ],
   "source": [
    "oned=np.array([9,8,7,2])#0,1,2,3, or -4,-3,-2,-1,\n",
    "print(oned[2])\n",
    "print()\n",
    "\n",
    "twodim=np.array([[1,2,3],[1,2,3]])\n",
    "print(twodim[1,2])\n",
    "print()\n",
    "\n",
    "dim3=np.array([[[1,2,3],[1,2,3]],[[3,4,5],[3,6,5]]])\n",
    "print(dim3[1,1,1])\n",
    "print()\n",
    "\n",
    "#slicing\n",
    "\n",
    "print(oned[1:4])#2nd element to 4th element\n",
    "print(oned[2:])#3rd to end and start to end [:3] and [::2] one one step is ignored [1:5:2] 1 to 5 step 2\n",
    "print()\n",
    "\n",
    "print(twodim[1:2]) #others similar to above\n"
   ]
  },
  {
   "cell_type": "markdown",
   "metadata": {},
   "source": [
    "# Iteration of Numpy Arrays"
   ]
  },
  {
   "cell_type": "code",
   "execution_count": 54,
   "metadata": {},
   "outputs": [
    {
     "name": "stdout",
     "output_type": "stream",
     "text": [
      "9\n",
      "8\n",
      "7\n",
      "2\n",
      "\n",
      "1\n",
      "2\n",
      "3\n",
      "1\n",
      "2\n",
      "3\n",
      "\n",
      "1\n",
      "2\n",
      "3\n",
      "1\n",
      "2\n",
      "3\n",
      "3\n",
      "4\n",
      "5\n",
      "3\n",
      "6\n",
      "5\n",
      "\n",
      "(0, 0, 0) 1\n",
      "(0, 0, 1) 2\n",
      "(0, 0, 2) 3\n",
      "(0, 1, 0) 1\n",
      "(0, 1, 1) 2\n",
      "(0, 1, 2) 3\n",
      "(1, 0, 0) 3\n",
      "(1, 0, 1) 4\n",
      "(1, 0, 2) 5\n",
      "(1, 1, 0) 3\n",
      "(1, 1, 1) 6\n",
      "(1, 1, 2) 5\n"
     ]
    }
   ],
   "source": [
    "for i in oned:\n",
    "    print(i)\n",
    "print()\n",
    "for i in twodim:\n",
    "    for j in i:\n",
    "        print(j)#similary for 3 and higher dimensions\n",
    "print()\n",
    "for i in np.nditer(dim3):\n",
    "    print (i)\n",
    "print()\n",
    "for i,d in np.ndenumerate(dim3):\n",
    "    print (i,d)\n"
   ]
  },
  {
   "cell_type": "markdown",
   "metadata": {},
   "source": [
    "# Joining and spliting Numpy arrays"
   ]
  },
  {
   "cell_type": "code",
   "execution_count": 12,
   "metadata": {},
   "outputs": [
    {
     "name": "stdout",
     "output_type": "stream",
     "text": [
      "[ 1  2  3  4  5  6  6  7  8  9 10]\n",
      "[ 1  2  3  4  5  6  6  7  8  9 10]\n",
      "[array([1, 2]), array([3, 4]), array([5, 6])]\n",
      "\n",
      "[[ 1  2  6  7  6  7]\n",
      " [ 3  4  8  9  8  9]\n",
      " [ 5  6 10 11 10 11]]\n"
     ]
    }
   ],
   "source": [
    "g1=np.array([1,2,3,4,5,6])\n",
    "g2=np.array([6,7,8,9,10])\n",
    "\n",
    "ar=np.concatenate((g1,g2))\n",
    "ar1=np.hstack((g1,g2))#h for along row v for along column and d  for height\n",
    "print(ar)\n",
    "print(ar1)\n",
    "\n",
    "arsp=np.array_split(g1,3)\n",
    "print(arsp)\n",
    "\n",
    "print()\n",
    "\n",
    "\n",
    "g1=np.array([[1,2],[3,4],[5,6]])\n",
    "g2=np.array([[6,7],[8,9],[10,11]])\n",
    "g3=np.array([[6,7],[8,9],[10,11]])\n",
    "ar=np.concatenate((g1,g2,g3),axis=1) #similarly stack function works here\n",
    "print(ar)\n"
   ]
  },
  {
   "cell_type": "markdown",
   "metadata": {},
   "source": [
    "# Search,Sort and Filter in numpy array"
   ]
  },
  {
   "cell_type": "code",
   "execution_count": 111,
   "metadata": {},
   "outputs": [
    {
     "name": "stdout",
     "output_type": "stream",
     "text": [
      "(array([ 0,  2,  4,  6,  8,  9, 12], dtype=int64),)\n",
      "\n",
      "10\n",
      "\n",
      "[ 1  2  3  4  5  6  5  2  5  7 90 40 23 30]\n",
      "\n",
      "['a' 'f']\n"
     ]
    }
   ],
   "source": [
    "#search\n",
    "h1=np.array([1,2,3,4,5,6,5,2,5,7,90,40,23,30])\n",
    "x=np.where((h1%2)==1)\n",
    "print(x)\n",
    "print()\n",
    "#search Sort Array\n",
    "x1=np.searchsorted(h1,20)#find position of 20 in sorted array\n",
    "print(x1)\n",
    "print()\n",
    "#Sort\n",
    "np.sort(h1)\n",
    "print(h1)\n",
    "print()\n",
    "#Filter\n",
    "var3=np.array(['a','s','d','f'])\n",
    "h2=[True,False,False,True]\n",
    "new_a=var3[h2]\n",
    "print(new_a)"
   ]
  },
  {
   "cell_type": "markdown",
   "metadata": {},
   "source": [
    "# Shuffle,Unique,Resize,Flatten,Ravel"
   ]
  },
  {
   "cell_type": "code",
   "execution_count": 145,
   "metadata": {},
   "outputs": [
    {
     "name": "stdout",
     "output_type": "stream",
     "text": [
      "[30  5  4  7  6  5 40  1 90  2  5 23  2  3]\n",
      "\n",
      "(array([ 1,  2,  3,  4,  5,  6,  7, 23, 30, 40, 90]), array([ 0,  1,  2,  3,  4,  5,  9, 12, 13, 11, 10], dtype=int64), array([1, 2, 1, 1, 3, 1, 1, 1, 1, 1, 1], dtype=int64))\n",
      "\n",
      "[[10 20]\n",
      " [30 40]\n",
      " [50 10]]\n",
      "\n",
      "[10 30 50 20 40 10]\n",
      "\n",
      "[10 20 30 40 50 10]\n"
     ]
    }
   ],
   "source": [
    "#Shuffle\n",
    "arrr=np.array([1,2,3,4,5,6,5,2,5,7,90,40,23,30])\n",
    "np.random.shuffle(arrr)\n",
    "print(arrr)\n",
    "print()\n",
    "# Unique\n",
    "arrr=np.array([1,2,3,4,5,6,5,2,5,7,90,40,23,30])\n",
    "nx=np.unique(arrr,return_index=True,return_counts=True)\n",
    "print(nx)\n",
    "print()\n",
    "\n",
    "#Resize\n",
    "var2=np.array([10,20,30,40,50])\n",
    "y=np.resize(var2,(3,2))\n",
    "print(y)\n",
    "print()\n",
    "\n",
    "#Flatten\n",
    "print(y.flatten(order=\"F\"))#order F dydefault order is Column order\n",
    "print()\n",
    "\n",
    "#Ravel\n",
    "print(np.ravel(y,order=\"K\"))#convert 2d to 1d array in row order\n"
   ]
  },
  {
   "cell_type": "markdown",
   "metadata": {},
   "source": [
    "# Concepts of Matrix in numpy"
   ]
  },
  {
   "cell_type": "code",
   "execution_count": 3,
   "metadata": {},
   "outputs": [
    {
     "name": "stdout",
     "output_type": "stream",
     "text": [
      "(3, 3)\n",
      "[[ 1  3  5]\n",
      " [ 2  4  6]\n",
      " [ 8 10 12]]\n",
      "\n",
      "[[ 2  6 10]\n",
      " [ 4  8 12]\n",
      " [16 20 24]]\n",
      "\n",
      "[[ 47  65  83]\n",
      " [ 58  82 106]\n",
      " [124 184 244]]\n",
      "\n",
      "[[ 47  58 124]\n",
      " [ 65  82 184]\n",
      " [ 83 106 244]]\n",
      "\n",
      "[[ 47  58 124]\n",
      " [ 65  82 184]\n",
      " [ 83 106 244]]\n",
      "\n",
      "[[-5.1469710e+15  6.0047995e+15 -8.5782850e+14]\n",
      " [ 1.0293942e+16 -1.2009599e+16  1.7156570e+15]\n",
      " [-5.1469710e+15  6.0047995e+15 -8.5782850e+14]]\n",
      "\n",
      "[[ 841 1231 1621]\n",
      " [1070 1562 2054]\n",
      " [2444 3548 4652]]\n",
      "\n",
      "-4.999999999999999\n"
     ]
    },
    {
     "data": {
      "text/plain": [
       "matrix([[1, 2, 3],\n",
       "        [0, 1, 4],\n",
       "        [1, 3, 2]])"
      ]
     },
     "execution_count": 3,
     "metadata": {},
     "output_type": "execute_result"
    }
   ],
   "source": [
    "var2=np.matrix([[1,3,5],[2,4,6],[8,10,12]])\n",
    "var3=np.matrix([[1,3,5],[2,4,6],[8,10,12]])\n",
    "var5=np.matrix([[1,2,3],[0,1,4],[1,3,2]])\n",
    "print(var5.shape)\n",
    "print(var2)\n",
    "print()\n",
    "print(var2+var3)\n",
    "print()\n",
    "var4=var2*var3\n",
    "print(var4)\n",
    "print()\n",
    "#matrix functions\n",
    "print(np.transpose(var4))#Transpose\n",
    "print()\n",
    "print(np.swapaxes(var4,0,1))#swap axes\n",
    "print()\n",
    "print(np.linalg.inv(var2))#inverse\n",
    "print()\n",
    "print(np.linalg.matrix_power(var2,3))#find power of matrix -ve powers can also be calculated\n",
    "print()\n",
    "print(np.linalg.det(var5))\n",
    "var5 #default matrix data type of numpy"
   ]
  },
  {
   "cell_type": "markdown",
   "metadata": {},
   "source": [
    "# Numerical Integration in NumPy"
   ]
  },
  {
   "cell_type": "code",
   "execution_count": 20,
   "metadata": {},
   "outputs": [
    {
     "data": {
      "image/png": "[encoded data removed]",
      "text/plain": [
       "<Figure size 1000x600 with 1 Axes>"
      ]
     },
     "metadata": {},
     "output_type": "display_data"
    },
    {
     "name": "stdout",
     "output_type": "stream",
     "text": [
      "[[ 0.00000000e+00  2.00000000e+00]\n",
      " [ 1.51515152e-01  2.19963906e+00]\n",
      " [ 3.03030303e-01  2.16760688e+00]\n",
      " [ 4.54545455e-01  1.91637329e+00]\n",
      " [ 6.06060606e-01  1.51292415e+00]\n",
      " [ 7.57575758e-01  1.04878287e+00]\n",
      " [ 9.09090909e-01  6.07413396e-01]\n",
      " [ 1.06060606e+00  2.43649423e-01]\n",
      " [ 1.21212121e+00 -2.03039381e-02]\n",
      " [ 1.36363636e+00 -1.87033974e-01]\n",
      " [ 1.51515152e+00 -2.72317390e-01]\n",
      " [ 1.66666667e+00 -2.95720759e-01]\n",
      " [ 1.81818182e+00 -2.75437219e-01]\n",
      " [ 1.96969697e+00 -2.26580647e-01]\n",
      " [ 2.12121212e+00 -1.61278533e-01]\n",
      " [ 2.27272727e+00 -8.92691241e-02]\n",
      " [ 2.42424242e+00 -1.83867453e-02]\n",
      " [ 2.57575758e+00  4.51974528e-02]\n",
      " [ 2.72727273e+00  9.69047003e-02]\n",
      " [ 2.87878788e+00  1.33738640e-01]\n",
      " [ 3.03030303e+00  1.54257350e-01]\n",
      " [ 3.18181818e+00  1.58486145e-01]\n",
      " [ 3.33333333e+00  1.47757673e-01]\n",
      " [ 3.48484848e+00  1.24483098e-01]\n",
      " [ 3.63636364e+00  9.18686899e-02]\n",
      " [ 3.78787879e+00  5.35980688e-02]\n",
      " [ 3.93939394e+00  1.35035162e-02]\n",
      " [ 4.09090909e+00 -2.47499526e-02]\n",
      " [ 4.24242424e+00 -5.79453972e-02]\n",
      " [ 4.39393939e+00 -8.35407254e-02]\n",
      " [ 4.54545455e+00 -9.98275047e-02]\n",
      " [ 4.69696970e+00 -1.06013332e-01]\n",
      " [ 4.84848485e+00 -1.02225687e-01]\n",
      " [ 5.00000000e+00 -8.94412963e-02]\n",
      " [ 5.15151515e+00 -6.93506459e-02]\n",
      " [ 5.30303030e+00 -4.41719595e-02]\n",
      " [ 5.45454545e+00 -1.64322705e-02]\n",
      " [ 5.60606061e+00  1.12648970e-02]\n",
      " [ 5.75757576e+00  3.64657073e-02]\n",
      " [ 5.90909091e+00  5.70675907e-02]\n",
      " [ 6.06060606e+00  7.14809412e-02]\n",
      " [ 6.21212121e+00  7.87393889e-02]\n",
      " [ 6.36363636e+00  7.85517909e-02]\n",
      " [ 6.51515152e+00  7.12943468e-02]\n",
      " [ 6.66666667e+00  5.79461883e-02]\n",
      " [ 6.81818182e+00  3.99763683e-02]\n",
      " [ 6.96969697e+00  1.91939071e-02]\n",
      " [ 7.12121212e+00 -2.42478019e-03]\n",
      " [ 7.27272727e+00 -2.29154627e-02]\n",
      " [ 7.42424242e+00 -4.04970679e-02]\n",
      " [ 7.57575758e+00 -5.37197653e-02]\n",
      " [ 7.72727273e+00 -6.15783705e-02]\n",
      " [ 7.87878788e+00 -6.35826773e-02]\n",
      " [ 8.03030303e+00 -5.97802776e-02]\n",
      " [ 8.18181818e+00 -5.07317151e-02]\n",
      " [ 8.33333333e+00 -3.74418339e-02]\n",
      " [ 8.48484848e+00 -2.12548707e-02]\n",
      " [ 8.63636364e+00 -3.72366634e-03]\n",
      " [ 8.78787879e+00  1.35347419e-02]\n",
      " [ 8.93939394e+00  2.89841203e-02]\n",
      " [ 9.09090909e+00  4.13019848e-02]\n",
      " [ 9.24242424e+00  4.94892990e-02]\n",
      " [ 9.39393939e+00  5.29481111e-02]\n",
      " [ 9.54545455e+00  5.15213630e-02]\n",
      " [ 9.69696970e+00  4.54926266e-02]\n",
      " [ 9.84848485e+00  3.55469789e-02]\n",
      " [ 1.00000000e+01  2.26977035e-02]\n",
      " [ 1.01515152e+01  8.18625548e-03]\n",
      " [ 1.03030303e+01 -6.63491692e-03]\n",
      " [ 1.04545455e+01 -2.04258724e-02]\n",
      " [ 1.06060606e+01 -3.19779478e-02]\n",
      " [ 1.07575758e+01 -4.03175222e-02]\n",
      " [ 1.09090909e+01 -4.47859591e-02]\n",
      " [ 1.10606061e+01 -4.50893997e-02]\n",
      " [ 1.12121212e+01 -4.13148694e-02]\n",
      " [ 1.13636364e+01 -3.39120400e-02]\n",
      " [ 1.15151515e+01 -2.36434404e-02]\n",
      " [ 1.16666667e+01 -1.15080017e-02]\n",
      " [ 1.18181818e+01  1.35414827e-03]\n",
      " [ 1.19696970e+01  1.37672630e-02]\n",
      " [ 1.21212121e+01  2.46258253e-02]\n",
      " [ 1.22727273e+01  3.29915464e-02]\n",
      " [ 1.24242424e+01  3.81730476e-02]\n",
      " [ 1.25757576e+01  3.97815940e-02]\n",
      " [ 1.27272727e+01  3.77584987e-02]\n",
      " [ 1.28787879e+01  3.23724266e-02]\n",
      " [ 1.30303030e+01  2.41875858e-02]\n",
      " [ 1.31818182e+01  1.40062908e-02]\n",
      " [ 1.33333333e+01  2.79160082e-03]\n",
      " [ 1.34848485e+01 -8.42260776e-03]\n",
      " [ 1.36363636e+01 -1.86258795e-02]\n",
      " [ 1.37878788e+01 -2.69211827e-02]\n",
      " [ 1.39393939e+01 -3.26027977e-02]\n",
      " [ 1.40909091e+01 -3.52153923e-02]\n",
      " [ 1.42424242e+01 -3.45894192e-02]\n",
      " [ 1.43939394e+01 -3.08502138e-02]\n",
      " [ 1.45454545e+01 -2.44004544e-02]\n",
      " [ 1.46969697e+01 -1.58782304e-02]\n",
      " [ 1.48484848e+01 -6.09485926e-03]\n",
      " [ 1.50000000e+01  4.04143997e-03]]\n"
     ]
    }
   ],
   "source": [
    "import numpy as np\n",
    "import matplotlib.pyplot as plt\n",
    "from scipy.integrate import odeint\n",
    "from matplotlib.pyplot import style\n",
    "def f(y, t):\n",
    "    return 2 * np.cos(2 * t) - 4 * y * t\n",
    "\n",
    "y0 = 2\n",
    "tspan = np.linspace(0, 15, 100)\n",
    "y = odeint(f, y0, tspan)\n",
    "\n",
    "plt.rcParams['figure.figsize']=(10,6)\n",
    "style.use('ggplot')\n",
    "plt.plot(tspan, y)\n",
    "plt.xlabel('t')\n",
    "plt.ylabel('y')\n",
    "plt.title('Solution of dy/dt = 2*cos(2*t) - 4*y*t')\n",
    "plt.savefig('numericalIntegration.pdf',dpi=1000)\n",
    "plt.show()\n",
    "\n",
    "print(np.column_stack((tspan, y)))"
   ]
  },
  {
   "cell_type": "markdown",
   "metadata": {},
   "source": [
    "# First Order ODES"
   ]
  },
  {
   "cell_type": "code",
   "execution_count": 5,
   "metadata": {},
   "outputs": [
    {
     "data": {
      "text/plain": [
       "array([[ 0.        ],\n",
       "       [-0.5236252 ],\n",
       "       [-0.89930561],\n",
       "       [-1.10946364],\n",
       "       [-1.21098185],\n",
       "       [-1.25654244],\n",
       "       [-1.27631226],\n",
       "       [-1.28476518],\n",
       "       [-1.28835654],\n",
       "       [-1.28987827]])"
      ]
     },
     "execution_count": 5,
     "metadata": {},
     "output_type": "execute_result"
    }
   ],
   "source": [
    "import numpy as np\n",
    "import matplotlib.pyplot as plt\n",
    "import scipy as sp\n",
    "from scipy.integrate import odeint\n",
    "from scipy.integrate import solve_ivp\n",
    "\n",
    "def dvdt(t,v):\n",
    "    return 3*v**2-5\n",
    "v0=0\n",
    "t=np.linspace(0,1,10)\n",
    "\n",
    "sol_m1=odeint(dvdt,y0=v0,t=t,tfirst=True)#Any order\n",
    "sol_m2=solve_ivp(dvdt,t_span=(0,max(t)),y0=[v0],t_eval=t)#First Order IVP\n",
    "sol_m1"
   ]
  },
  {
   "cell_type": "code",
   "execution_count": 6,
   "metadata": {},
   "outputs": [
    {
     "data": {
      "text/plain": [
       "  message: 'The solver successfully reached the end of the integration interval.'\n",
       "     nfev: 68\n",
       "     njev: 0\n",
       "      nlu: 0\n",
       "      sol: None\n",
       "   status: 0\n",
       "  success: True\n",
       "        t: array([0.        , 0.11111111, 0.22222222, 0.33333333, 0.44444444,\n",
       "       0.55555556, 0.66666667, 0.77777778, 0.88888889, 1.        ])\n",
       " t_events: None\n",
       "        y: array([[ 0.        , -0.52362591, -0.89966349, -1.10971235, -1.21118463,\n",
       "        -1.25677462, -1.27638204, -1.28478332, -1.28828513, -1.2898323 ]])\n",
       " y_events: None"
      ]
     },
     "execution_count": 6,
     "metadata": {},
     "output_type": "execute_result"
    }
   ],
   "source": [
    "sol_m2"
   ]
  },
  {
   "cell_type": "code",
   "execution_count": null,
   "metadata": {},
   "outputs": [],
   "source": []
  },
  {
   "cell_type": "code",
   "execution_count": null,
   "metadata": {},
   "outputs": [],
   "source": []
  },
  {
   "cell_type": "code",
   "execution_count": null,
   "metadata": {},
   "outputs": [],
   "source": []
  },
  {
   "cell_type": "code",
   "execution_count": null,
   "metadata": {},
   "outputs": [],
   "source": []
  },
  {
   "cell_type": "markdown",
   "metadata": {},
   "source": [
    "# Fourier Series "
   ]
  },
  {
   "cell_type": "code",
   "execution_count": 1,
   "metadata": {},
   "outputs": [
    {
     "data": {
      "image/png": "[encoded data removed]",
      "text/plain": [
       "<Figure size 800x600 with 4 Axes>"
      ]
     },
     "metadata": {},
     "output_type": "display_data"
    }
   ],
   "source": [
    "import numpy as np\n",
    "import matplotlib.pyplot as plt\n",
    "\n",
    "# Square wave characteristics\n",
    "frequency = 1  # Frequency in Hz\n",
    "amplitude = 5  # Amplitude in Volts\n",
    "dc_bias = -3  # DC bias in Volts\n",
    "time_interval = np.arange(-3, 3, 0.01)  # Time interval in seconds\n",
    "\n",
    "# Fourier series approximation\n",
    "m_values = [1, 5, 10, 20]  # Values of m for approximation\n",
    "\n",
    "fig, axs = plt.subplots(len(m_values), 1, figsize=(8, 6))  # Create subplots\n",
    "\n",
    "for i, m in enumerate(m_values):\n",
    "    # Calculate Fourier coefficients\n",
    "    a0 = amplitude / 2\n",
    "    ak = np.zeros(m)\n",
    "    bk = np.zeros(m)\n",
    "\n",
    "    for k in range(1, m+1):\n",
    "        ak[k-1] = (2 * amplitude / (k * np.pi)) * np.sin(k * np.pi / 2)\n",
    "        bk[k-1] = 0\n",
    "\n",
    "    # Calculate Fourier series approximation\n",
    "    st = a0/2\n",
    "    for k in range(1, m+1):\n",
    "        st += ak[k-1] * np.cos(k * 2 * np.pi * frequency * time_interval) + bk[k-1] * np.sin(k * 2 * np.pi * frequency * time_interval)\n",
    "\n",
    "    # Plot the Fourier series approximation\n",
    "    axs[i].plot(time_interval, st)\n",
    "    axs[i].set_title(f'Fourier Series Approximation (m = {m})')\n",
    "    axs[i].set_xlabel('Time (s)')\n",
    "    axs[i].set_ylabel('Amplitude (V)')\n",
    "\n",
    "plt.tight_layout()  # Adjust subplots layout\n",
    "plt.show()\n"
   ]
  }
 ],
 "metadata": {
  "kernelspec": {
   "display_name": "Python 3 (ipykernel)",
   "language": "python",
   "name": "python3"
  },
  "language_info": {
   "codemirror_mode": {
    "name": "ipython",
    "version": 3
   },
   "file_extension": ".py",
   "mimetype": "text/x-python",
   "name": "python",
   "nbconvert_exporter": "python",
   "pygments_lexer": "ipython3",
   "version": "3.10.9"
  }
 },
 "nbformat": 4,
 "nbformat_minor": 4
}
