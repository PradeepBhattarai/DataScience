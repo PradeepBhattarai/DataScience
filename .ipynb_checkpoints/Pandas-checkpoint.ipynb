{
 "cells": [
  {
   "cell_type": "markdown",
   "id": "00749be0",
   "metadata": {},
   "source": [
    "# Series"
   ]
  },
  {
   "cell_type": "code",
   "execution_count": 13,
   "id": "51f33c4a",
   "metadata": {},
   "outputs": [
    {
     "name": "stdout",
     "output_type": "stream",
     "text": [
      "a    2.0\n",
      "b    3.0\n",
      "c    4.0\n",
      "d    5.0\n",
      "e    5.0\n",
      "f    6.0\n",
      "Name: python, dtype: float64\n",
      "<class 'pandas.core.series.Series'>\n",
      "5.0\n"
     ]
    }
   ],
   "source": [
    "import pandas as pd\n",
    "\n",
    "x=[2,3,4,5,5,6]\n",
    "\n",
    "var=pd.Series(x,index=['a','b','c','d','e','f'],dtype=\"float\",name=\"python\")\n",
    "print(var)\n",
    "print(type(var))\n",
    "print(var[3])"
   ]
  },
  {
   "cell_type": "code",
   "execution_count": 19,
   "id": "0b8eba61",
   "metadata": {},
   "outputs": [
    {
     "name": "stdout",
     "output_type": "stream",
     "text": [
      "Name    [python, c, java, c++]\n",
      "por           [12, 13, 14, 15]\n",
      "rank              [1, 4, 3, 2]\n",
      "dtype: object\n",
      "1    12\n",
      "2    12\n",
      "3    12\n",
      "4    12\n",
      "5    12\n",
      "6    12\n",
      "7    12\n",
      "dtype: int64\n",
      "<class 'pandas.core.series.Series'>\n",
      "0     NaN\n",
      "1    20.0\n",
      "2    20.0\n",
      "3     NaN\n",
      "4     NaN\n",
      "dtype: float64\n"
     ]
    }
   ],
   "source": [
    "dic={\"Name\":['python','c','java','c++'],\"por\":[12,13,14,15],\"rank\":[1,4,3,2]}\n",
    "var1=pd.Series(dic)\n",
    "print(var1)\n",
    "\n",
    "s=pd.Series(12,index=[1,2,3,4,5,6,7])\n",
    "print(s)\n",
    "print(type(s))\n",
    "\n",
    "#no broadcasting error in pandas\n",
    "s1=pd.Series(12,index=[1,2,3,4])\n",
    "s2=pd.Series(8,index=[0,1,2])\n",
    "print(s1+s2)"
   ]
  },
  {
   "cell_type": "markdown",
   "id": "c97fbfe4",
   "metadata": {},
   "source": [
    "# DataFrames"
   ]
  },
  {
   "cell_type": "code",
   "execution_count": null,
   "id": "8bfcfd5a",
   "metadata": {},
   "outputs": [],
   "source": [
    "#2D data in pandas"
   ]
  }
 ],
 "metadata": {
  "kernelspec": {
   "display_name": "Python 3 (ipykernel)",
   "language": "python",
   "name": "python3"
  },
  "language_info": {
   "codemirror_mode": {
    "name": "ipython",
    "version": 3
   },
   "file_extension": ".py",
   "mimetype": "text/x-python",
   "name": "python",
   "nbconvert_exporter": "python",
   "pygments_lexer": "ipython3",
   "version": "3.10.9"
  }
 },
 "nbformat": 4,
 "nbformat_minor": 5
}
