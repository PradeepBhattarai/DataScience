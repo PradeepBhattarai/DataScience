{
 "cells": [
  {
   "cell_type": "markdown",
   "id": "9eb439a2",
   "metadata": {},
   "source": [
    "# Reading Files"
   ]
  },
  {
   "cell_type": "code",
   "execution_count": null,
   "id": "63d0f66d",
   "metadata": {},
   "outputs": [],
   "source": [
    "#The basics of text file is to obtain a file object using open\n",
    "#'r' means read-only, it's assumed if you leave it out\n",
    "file_for_reading =open('reading_file.txt','r')\n",
    "file_for_reading2=open('reading_file.txt')\n",
    "\n",
    "#'w' is write -- will destroy the file if it already exists!\n",
    "file_for_writing=open('writing_file','w')\n",
    "file_for_appending=open('appending_file.txt','a')\n",
    "file_for_writing.close()"
   ]
  },
  {
   "cell_type": "code",
   "execution_count": null,
   "id": "8d5098aa",
   "metadata": {},
   "outputs": [],
   "source": []
  }
 ],
 "metadata": {
  "kernelspec": {
   "display_name": "Python 3 (ipykernel)",
   "language": "python",
   "name": "python3"
  },
  "language_info": {
   "codemirror_mode": {
    "name": "ipython",
    "version": 3
   },
   "file_extension": ".py",
   "mimetype": "text/x-python",
   "name": "python",
   "nbconvert_exporter": "python",
   "pygments_lexer": "ipython3",
   "version": "3.10.9"
  }
 },
 "nbformat": 4,
 "nbformat_minor": 5
}
