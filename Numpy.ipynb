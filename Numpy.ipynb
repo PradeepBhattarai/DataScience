{
 "cells": [
  {
   "cell_type": "code",
   "execution_count": 6,
   "metadata": {},
   "outputs": [
    {
     "name": "stdout",
     "output_type": "stream",
     "text": [
      "[1, 2, 3, 4, 5]\n",
      "<class 'list'>\n",
      "[1 2 3 4]\n",
      "<class 'numpy.ndarray'>\n"
     ]
    }
   ],
   "source": [
    "#NUMPY Tutorial\n",
    "import numpy as np\n",
    "x=np.array([1,2,3,4])\n",
    "y=[1,2,3,4,5]\n",
    "\n",
    "print(y)\n",
    "print(type(y))\n",
    "\n",
    "print(x)\n",
    "print(type(x))\n"
   ]
  },
  {
   "cell_type": "code",
   "execution_count": 9,
   "metadata": {},
   "outputs": [
    {
     "name": "stdout",
     "output_type": "stream",
     "text": [
      "3.84 µs ± 81 ns per loop (mean ± std. dev. of 7 runs, 100,000 loops each)\n"
     ]
    }
   ],
   "source": [
    "%timeit [j**4 for j in range(1,8)]"
   ]
  },
  {
   "cell_type": "code",
   "execution_count": 1,
   "metadata": {},
   "outputs": [
    {
     "name": "stdout",
     "output_type": "stream",
     "text": [
      "3.8 µs ± 59.6 ns per loop (mean ± std. dev. of 7 runs, 100,000 loops each)\n"
     ]
    }
   ],
   "source": [
    "import numpy as np\n",
    "\n",
    "%timeit np.arange(1,9)**4"
   ]
  },
  {
   "cell_type": "markdown",
   "metadata": {},
   "source": [
    "# Array"
   ]
  },
  {
   "cell_type": "code",
   "execution_count": 2,
   "metadata": {},
   "outputs": [
    {
     "name": "stdout",
     "output_type": "stream",
     "text": [
      "enter:12\n",
      "enter:23\n",
      "enter:12\n",
      "enter:42\n",
      "['12' '23' '12' '42']\n"
     ]
    }
   ],
   "source": [
    "l=[]\n",
    "for i in range(1,5):\n",
    "    int_1=input(\"enter:\")\n",
    "    l.append(int_1)\n",
    "print(np.array(l))"
   ]
  },
  {
   "cell_type": "markdown",
   "metadata": {},
   "source": [
    "# Dimensions of array"
   ]
  },
  {
   "cell_type": "code",
   "execution_count": 6,
   "metadata": {},
   "outputs": [
    {
     "name": "stdout",
     "output_type": "stream",
     "text": [
      "[[1 2 3 4]\n",
      " [1 5 6 8]]\n",
      "2\n",
      "[[[1 2 3 4]\n",
      "  [1 5 6 8]\n",
      "  [2 3 4 5]]]\n",
      "3\n"
     ]
    }
   ],
   "source": [
    "ar1=np.array([[1,2,3,4],[1,5,6,8]])\n",
    "print(ar1)\n",
    "print(ar1.ndim)\n",
    "ar2=np.array([[[1,2,3,4],[1,5,6,8],[2,3,4,5]]])\n",
    "print(ar2)\n",
    "print(ar2.ndim)"
   ]
  },
  {
   "cell_type": "markdown",
   "metadata": {},
   "source": [
    "# arn=np.array([1,2,3,4],ndmin=10)\n",
    "print(arn)\n",
    "print(arn.ndim)\n",
    "\n",
    "ar_zero=np.zeros(10)\n",
    "ar_zero1=np.zeros((3,4))#3*4 2d array\n",
    "print(ar_zero)\n",
    "print(ar_zero1)\n",
    "\n",
    "\n",
    "ar_one=np.ones((4,4))\n",
    "print(ar_one)\n",
    "\n",
    "print()\n",
    "ar_em=np.empty(4)\n",
    "print(ar_em)\n",
    "\n",
    "# Range\n",
    "ar_rn=np.arange(4)\n",
    "print(ar_rn)\n",
    "\n",
    "#diagonal elem 1\n",
    "ar_dig1=np.eye(3,3)\n",
    "print(ar_dig1)\n",
    "\n",
    "#lineSpace\n",
    "ar_lin=np.linspace(3,10,num=5)#gap=(10-3)/(5-1)\n",
    "print(ar_lin)\n"
   ]
  },
  {
   "cell_type": "markdown",
   "metadata": {},
   "source": [
    "# Array Using Random Numbers"
   ]
  },
  {
   "cell_type": "code",
   "execution_count": 80,
   "metadata": {},
   "outputs": [
    {
     "name": "stdout",
     "output_type": "stream",
     "text": [
      "[[0.01205851 0.34766556]\n",
      " [0.74220871 0.33513911]]\n",
      "\n",
      "[[ 0.31484089  1.16993452]\n",
      " [-0.44661669  0.4561517 ]]\n",
      "\n",
      "[[0.38274992 0.00881303]\n",
      " [0.30983337 0.3027787 ]]\n",
      "\n",
      "[6 9 7 6 6 6 9 5 6 9]\n"
     ]
    }
   ],
   "source": [
    "rand_array=np.random.rand(2,2)\n",
    "print(rand_array)\n",
    "print()\n",
    "rand_array1=np.random.randn(2,2)#numbers close to zero\n",
    "print(rand_array1)\n",
    "print()\n",
    "rand_array2=np.random.ranf((2,2))# half open interval [0.0,1.0)\n",
    "print(rand_array2)\n",
    "print()\n",
    "rand_array3=np.random.randint(5,10,10)\n",
    "print(rand_array3)"
   ]
  },
  {
   "cell_type": "markdown",
   "metadata": {},
   "source": [
    "# DataTypes in NumPy Arrays"
   ]
  },
  {
   "cell_type": "code",
   "execution_count": null,
   "metadata": {},
   "outputs": [],
   "source": []
  }
 ],
 "metadata": {
  "kernelspec": {
   "display_name": "Python 3 (ipykernel)",
   "language": "python",
   "name": "python3"
  },
  "language_info": {
   "codemirror_mode": {
    "name": "ipython",
    "version": 3
   },
   "file_extension": ".py",
   "mimetype": "text/x-python",
   "name": "python",
   "nbconvert_exporter": "python",
   "pygments_lexer": "ipython3",
   "version": "3.10.9"
  }
 },
 "nbformat": 4,
 "nbformat_minor": 4
}
