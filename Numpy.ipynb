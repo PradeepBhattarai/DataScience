{
  "metadata": {
    "language_info": {
      "codemirror_mode": {
        "name": "python",
        "version": 3
      },
      "file_extension": ".py",
      "mimetype": "text/x-python",
      "name": "python",
      "nbconvert_exporter": "python",
      "pygments_lexer": "ipython3",
      "version": "3.8"
    },
    "kernelspec": {
      "name": "python",
      "display_name": "Python (Pyodide)",
      "language": "python"
    }
  },
  "nbformat_minor": 4,
  "nbformat": 4,
  "cells": [
    {
      "cell_type": "code",
      "source": "#NUMPY Tutorial\nimport numpy as np\nx=np.array([1,2,3,4])\ny=[1,2,3,4,5]\n\nprint(y)\nprint(type(y))\n\nprint(x)\nprint(type(x))\n",
      "metadata": {
        "trusted": true
      },
      "execution_count": 6,
      "outputs": [
        {
          "name": "stdout",
          "text": "[1, 2, 3, 4, 5]\n<class 'list'>\n[1 2 3 4]\n<class 'numpy.ndarray'>\n",
          "output_type": "stream"
        }
      ]
    },
    {
      "cell_type": "code",
      "source": "%timeit [j**4 for j in range(1,8)]",
      "metadata": {
        "trusted": true
      },
      "execution_count": 9,
      "outputs": [
        {
          "name": "stdout",
          "text": "3.84 µs ± 81 ns per loop (mean ± std. dev. of 7 runs, 100,000 loops each)\n",
          "output_type": "stream"
        }
      ]
    },
    {
      "cell_type": "code",
      "source": "import numpy as np\n\n%timeit np.arange(1,9)**4\n",
      "metadata": {
        "trusted": true
      },
      "execution_count": 11,
      "outputs": [
        {
          "name": "stdout",
          "text": "3.78 µs ± 355 ns per loop (mean ± std. dev. of 7 runs, 100,000 loops each)\n",
          "output_type": "stream"
        }
      ]
    }
  ]
}